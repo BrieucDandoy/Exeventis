{
 "cells": [
  {
   "cell_type": "code",
   "execution_count": 1,
   "id": "09a64d14",
   "metadata": {},
   "outputs": [],
   "source": [
    "from aggregate import Aggregate,event\n",
    "from recorder import EventMemoryRecorder\n",
    "from application import Application\n",
    "from datetime import datetime\n",
    "class Account(Aggregate):\n",
    "    @event(\"creation\")\n",
    "    def __init__(self,name : str):\n",
    "        self.name = name\n",
    "        self.balance = 0\n",
    "    @event(\"add\")\n",
    "    def add(self,amount : float,timestamp : datetime = datetime.now()):\n",
    "        self.balance += amount\n",
    "    \n",
    "    @event(\"subtract\")\n",
    "    def subtract(self,amount : float, timestamp : datetime = datetime.now()):\n",
    "        self.balance -= amount\n",
    "\n",
    "\n",
    "\n",
    "class Dog(Aggregate):\n",
    "    @event(\"birth\")\n",
    "    def __init__(self,name : str):\n",
    "        self.name = name\n",
    "        self.tricks = []\n",
    "    @event(\"add_trick\")\n",
    "    def add_trick(self,trick : str):\n",
    "        self.tricks.append(trick)\n",
    "    @event(\"remove_trick\")\n",
    "    def remove_trick(self,trick : str):\n",
    "        if trick in self.tricks:\n",
    "            self.tricks.remove(trick)\n",
    "\n",
    "\n",
    "class Service(Application):\n",
    "    pass\n",
    "\n",
    "account_recorder = EventMemoryRecorder([Account],name=\"Account recorder\")\n",
    "dog_recorder = EventMemoryRecorder([Dog],name = \"dog recorder\")\n",
    "global_recorder = EventMemoryRecorder(name=\"global recorder\")\n",
    "service = Application(recorders=[account_recorder,dog_recorder,global_recorder])\n"
   ]
  },
  {
   "cell_type": "code",
   "execution_count": 2,
   "id": "aba2a2bf",
   "metadata": {},
   "outputs": [],
   "source": [
    "account = Account(\"Pierre Dupont\")"
   ]
  },
  {
   "cell_type": "code",
   "execution_count": 3,
   "id": "3da546ae",
   "metadata": {},
   "outputs": [],
   "source": [
    "account.add(2_999)"
   ]
  },
  {
   "cell_type": "code",
   "execution_count": 4,
   "id": "381ea3bc",
   "metadata": {},
   "outputs": [],
   "source": [
    "account.subtract(10)"
   ]
  },
  {
   "cell_type": "code",
   "execution_count": 5,
   "id": "c54ebd2f",
   "metadata": {},
   "outputs": [],
   "source": [
    "service.save(account)"
   ]
  },
  {
   "cell_type": "code",
   "execution_count": 6,
   "id": "6dc3469c",
   "metadata": {},
   "outputs": [],
   "source": [
    "dog = Dog(\"Dingo\")\n",
    "dog.add_trick(\"wouaf\")\n",
    "dog.remove_trick(\"wouaf\")"
   ]
  },
  {
   "cell_type": "code",
   "execution_count": 7,
   "id": "c3b89ce2",
   "metadata": {},
   "outputs": [],
   "source": [
    "service.save(dog)"
   ]
  },
  {
   "cell_type": "code",
   "execution_count": 8,
   "id": "4142aef9",
   "metadata": {},
   "outputs": [
    {
     "data": {
      "text/plain": [
       "{UUID('b1b97d85-3463-47db-80c1-57675564ef54'): [Event(name='creation', type_='Account', event_kwargs={'name': 'Pierre Dupont'}, version=1, originator_id=UUID('b1b97d85-3463-47db-80c1-57675564ef54')),\n",
       "  Event(name='add', type_='Account', event_kwargs={'amount': 2999, 'timestamp': datetime.datetime(2025, 5, 29, 16, 37, 14, 746876)}, version=2, originator_id=UUID('b1b97d85-3463-47db-80c1-57675564ef54')),\n",
       "  Event(name='subtract', type_='Account', event_kwargs={'amount': 10, 'timestamp': datetime.datetime(2025, 5, 29, 16, 37, 14, 746879)}, version=3, originator_id=UUID('b1b97d85-3463-47db-80c1-57675564ef54'))]}"
      ]
     },
     "execution_count": 8,
     "metadata": {},
     "output_type": "execute_result"
    }
   ],
   "source": [
    "account_recorder.memory.data"
   ]
  },
  {
   "cell_type": "code",
   "execution_count": 9,
   "id": "69c0dbe9",
   "metadata": {},
   "outputs": [
    {
     "data": {
      "text/plain": [
       "{UUID('c5f70cf6-5531-4d3c-9d80-dc06127663db'): [Event(name='birth', type_='Dog', event_kwargs={'name': 'Dingo'}, version=1, originator_id=UUID('c5f70cf6-5531-4d3c-9d80-dc06127663db')),\n",
       "  Event(name='add_trick', type_='Dog', event_kwargs={'trick': 'wouaf'}, version=2, originator_id=UUID('c5f70cf6-5531-4d3c-9d80-dc06127663db')),\n",
       "  Event(name='remove_trick', type_='Dog', event_kwargs={'trick': 'wouaf'}, version=3, originator_id=UUID('c5f70cf6-5531-4d3c-9d80-dc06127663db'))]}"
      ]
     },
     "execution_count": 9,
     "metadata": {},
     "output_type": "execute_result"
    }
   ],
   "source": [
    "dog_recorder.memory.data"
   ]
  },
  {
   "cell_type": "code",
   "execution_count": 10,
   "id": "385db416",
   "metadata": {},
   "outputs": [
    {
     "data": {
      "text/plain": [
       "{UUID('b1b97d85-3463-47db-80c1-57675564ef54'): [Event(name='creation', type_='Account', event_kwargs={'name': 'Pierre Dupont'}, version=1, originator_id=UUID('b1b97d85-3463-47db-80c1-57675564ef54')),\n",
       "  Event(name='add', type_='Account', event_kwargs={'amount': 2999, 'timestamp': datetime.datetime(2025, 5, 29, 16, 37, 14, 746876)}, version=2, originator_id=UUID('b1b97d85-3463-47db-80c1-57675564ef54')),\n",
       "  Event(name='subtract', type_='Account', event_kwargs={'amount': 10, 'timestamp': datetime.datetime(2025, 5, 29, 16, 37, 14, 746879)}, version=3, originator_id=UUID('b1b97d85-3463-47db-80c1-57675564ef54'))],\n",
       " UUID('c5f70cf6-5531-4d3c-9d80-dc06127663db'): [Event(name='birth', type_='Dog', event_kwargs={'name': 'Dingo'}, version=1, originator_id=UUID('c5f70cf6-5531-4d3c-9d80-dc06127663db')),\n",
       "  Event(name='add_trick', type_='Dog', event_kwargs={'trick': 'wouaf'}, version=2, originator_id=UUID('c5f70cf6-5531-4d3c-9d80-dc06127663db')),\n",
       "  Event(name='remove_trick', type_='Dog', event_kwargs={'trick': 'wouaf'}, version=3, originator_id=UUID('c5f70cf6-5531-4d3c-9d80-dc06127663db'))]}"
      ]
     },
     "execution_count": 10,
     "metadata": {},
     "output_type": "execute_result"
    }
   ],
   "source": [
    "global_recorder.memory.data"
   ]
  },
  {
   "cell_type": "code",
   "execution_count": 11,
   "id": "f2417beb",
   "metadata": {},
   "outputs": [
    {
     "data": {
      "text/plain": [
       "[]"
      ]
     },
     "execution_count": 11,
     "metadata": {},
     "output_type": "execute_result"
    }
   ],
   "source": [
    "account._unsaved_event_list"
   ]
  },
  {
   "cell_type": "code",
   "execution_count": 12,
   "id": "784c6072",
   "metadata": {},
   "outputs": [],
   "source": [
    "event1,event2,event3 = global_recorder.memory.data.get(account._id)"
   ]
  },
  {
   "cell_type": "code",
   "execution_count": 13,
   "id": "add2f01d",
   "metadata": {},
   "outputs": [
    {
     "name": "stdout",
     "output_type": "stream",
     "text": [
      "None\n",
      "dee06ae7-68e5-4ebd-9772-2e67873ee3f0,0\n",
      "dee06ae7-68e5-4ebd-9772-2e67873ee3f0,0\n"
     ]
    }
   ],
   "source": [
    "account_copy = service.get(account._id)"
   ]
  },
  {
   "cell_type": "code",
   "execution_count": 14,
   "id": "5a8ff773",
   "metadata": {},
   "outputs": [
    {
     "data": {
      "text/plain": [
       "dee06ae7-68e5-4ebd-9772-2e67873ee3f0,0"
      ]
     },
     "execution_count": 14,
     "metadata": {},
     "output_type": "execute_result"
    }
   ],
   "source": [
    "account_copy"
   ]
  },
  {
   "cell_type": "code",
   "execution_count": 15,
   "id": "ad34285b",
   "metadata": {},
   "outputs": [
    {
     "data": {
      "text/plain": [
       "2989"
      ]
     },
     "execution_count": 15,
     "metadata": {},
     "output_type": "execute_result"
    }
   ],
   "source": [
    "account_copy.balance"
   ]
  },
  {
   "cell_type": "code",
   "execution_count": 16,
   "id": "bdc5a158",
   "metadata": {},
   "outputs": [
    {
     "data": {
      "text/plain": [
       "2989"
      ]
     },
     "execution_count": 16,
     "metadata": {},
     "output_type": "execute_result"
    }
   ],
   "source": [
    "account.balance"
   ]
  },
  {
   "cell_type": "code",
   "execution_count": 18,
   "id": "abab73d6",
   "metadata": {},
   "outputs": [],
   "source": [
    "import pydantic"
   ]
  },
  {
   "cell_type": "code",
   "execution_count": 23,
   "id": "cfdd6df1",
   "metadata": {},
   "outputs": [
    {
     "name": "stdout",
     "output_type": "stream",
     "text": [
      "{'name': 'Test', 'timestamp': '2024-06-01T12:00:00'}\n",
      "{\"name\":\"Test\",\"timestamp\":\"2024-06-01T12:00:00\"}\n"
     ]
    }
   ],
   "source": [
    "from pydantic import BaseModel, field_serializer\n",
    "from datetime import datetime\n",
    "\n",
    "class MyModel(BaseModel):\n",
    "    name: str\n",
    "    timestamp: datetime\n",
    "\n",
    "    @field_serializer(\"timestamp\")\n",
    "    def serialize_timestamp(self, dt: datetime):\n",
    "        return dt.isoformat()  # Customize the format\n",
    "    \n",
    "\n",
    "\n",
    "model = MyModel(name=\"Test\", timestamp=datetime(2024, 6, 1, 12, 0))\n",
    "\n",
    "# Serialize to dict\n",
    "print(model.model_dump())\n",
    "\n",
    "# Serialize to JSON\n",
    "print(model.model_dump_json())\n"
   ]
  },
  {
   "cell_type": "code",
   "execution_count": null,
   "id": "62dc354d",
   "metadata": {},
   "outputs": [],
   "source": [
    "a = {}\n",
    "a.get()"
   ]
  }
 ],
 "metadata": {
  "kernelspec": {
   "display_name": ".venv",
   "language": "python",
   "name": "python3"
  },
  "language_info": {
   "codemirror_mode": {
    "name": "ipython",
    "version": 3
   },
   "file_extension": ".py",
   "mimetype": "text/x-python",
   "name": "python",
   "nbconvert_exporter": "python",
   "pygments_lexer": "ipython3",
   "version": "3.13.0"
  }
 },
 "nbformat": 4,
 "nbformat_minor": 5
}
