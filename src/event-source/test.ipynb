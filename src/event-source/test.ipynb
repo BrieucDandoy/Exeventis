{
 "cells": [
  {
   "cell_type": "code",
   "execution_count": null,
   "id": "fe263092",
   "metadata": {},
   "outputs": [],
   "source": [
    "import inspect\n",
    "from uuid import UUID\n",
    "from uuid import uuid4\n",
    "\n",
    "from exceptions import NotAnAggregateError\n",
    "from pydantic import BaseModel\n",
    "from dataclasses import dataclass\n",
    "from typing import Callable\n",
    "\n",
    "\n",
    "\n",
    "class AggregateMeta(type):\n",
    "    _event_function_registry = {}\n",
    "    _class_registry = {}\n",
    "\n",
    "    def __new__(mcs, name, bases, namespace):\n",
    "        \"\"\"Add a double entry dictionnary with class name -> event_name to get the method back\"\"\"\n",
    "        cls = super().__new__(mcs, name, bases, namespace)\n",
    "        if name != \"Aggregate\":\n",
    "            # Collect event methods\n",
    "            event_methods = {}\n",
    "            for attr_name, attr_value in namespace.items():\n",
    "                if callable(attr_value) and getattr(attr_value, \"_is_event\", False):\n",
    "                    event_name = getattr(attr_value, \"_event_name\", None)\n",
    "                    if event_name:\n",
    "                        event_methods[event_name] = attr_value._original_func\n",
    "            mcs._class_registry[cls.__qualname__] = cls\n",
    "            mcs._event_function_registry[name] = event_methods\n",
    "\n",
    "        return cls\n",
    "\n",
    "    def __call__(cls, *args, **kwargs) -> \"Aggregate\":\n",
    "        instance: Aggregate = cls.__new__(cls, *args, **kwargs)\n",
    "        instance._unsaved_event_list = []\n",
    "        instance._version = 0\n",
    "        instance._id = uuid4()\n",
    "        cls.__init__(instance, *args, **kwargs)\n",
    "        return instance\n",
    "\n",
    "\n",
    "class Aggregate(metaclass=AggregateMeta):\n",
    "    _unsaved_event_list: list\n",
    "    _version: int\n",
    "    _id: UUID\n",
    "\n",
    "\n",
    "def event(event_name):\n",
    "    def event_decorator(method):\n",
    "        def wrapper(self, *args, **kwargs):\n",
    "            if not isinstance(self, Aggregate):\n",
    "                raise NotAnAggregateError(\"Object must be an instance of Aggregate\")\n",
    "\n",
    "            sig = inspect.signature(method)\n",
    "            bound = sig.bind(self, *args, **kwargs)\n",
    "            bound.apply_defaults()\n",
    "            arg_dict = dict(bound.arguments)\n",
    "            arg_dict.pop(\"self\")\n",
    "            self._version += 1\n",
    "            new_event = Event(\n",
    "                name=event_name,\n",
    "                type_=\".\".join(\n",
    "                    method.__qualname__.split(\".\")[:-1]\n",
    "                ),  # get the class of the method\n",
    "                originator_id=self._id,\n",
    "                event_kwargs=arg_dict,\n",
    "                version=self._version,\n",
    "            )\n",
    "            self._unsaved_event_list.append(new_event)\n",
    "            return method(self, *args, **kwargs)\n",
    "\n",
    "        wrapper._is_event = True\n",
    "        wrapper._event_name = event_name\n",
    "        wrapper._original_func = method\n",
    "        return wrapper\n",
    "\n",
    "    return event_decorator\n",
    "\n",
    "\n",
    "class Event(BaseModel):\n",
    "    name: str\n",
    "    type_: str\n",
    "    event_kwargs: dict\n",
    "    version: int\n",
    "    originator_id: UUID\n",
    "\n",
    "    def mutate(self, aggregate: Aggregate | None):\n",
    "        func = AggregateMeta._event_function_registry[self.type_][self.name]\n",
    "        if aggregate:\n",
    "            return func(aggregate, **self.event_kwargs)\n",
    "        aggregate_class_metadata: ClassMetaData = AggregateMeta._class_registry[self.type_]\n",
    "        aggregate_class = aggregate_class_metadata.class_\n",
    "        original_init = aggregate_class.__init__\n",
    "        aggregate_class.__init__ = func\n",
    "        instance = AggregateMeta.__call__(aggregate_class,**self.event_kwargs)\n",
    "        aggregate_class.__init__ = original_init\n",
    "        return instance\n"
   ]
  },
  {
   "cell_type": "code",
   "execution_count": 174,
   "id": "ee85c186",
   "metadata": {},
   "outputs": [],
   "source": [
    "class Test(Aggregate):\n",
    "    name : str\n",
    "\n",
    "    @event(\"init\")\n",
    "    def __init__(self,name : str):\n",
    "        self.name = name\n",
    "    @event(\"change_name\")\n",
    "    def change_name(self,new_name : str):\n",
    "        self.name = new_name\n",
    "    \n",
    "    def __repr__(self):\n",
    "        return f\"{self.name}\\n{self._unsaved_event_list}\"\n"
   ]
  },
  {
   "cell_type": "code",
   "execution_count": 175,
   "id": "e68b253e",
   "metadata": {},
   "outputs": [],
   "source": [
    "a = Test(\"nom\")\n",
    "a.change_name(\"nom2\")"
   ]
  },
  {
   "cell_type": "code",
   "execution_count": 176,
   "id": "6830902d",
   "metadata": {},
   "outputs": [],
   "source": [
    "b = a._unsaved_event_list[0].mutate(None)"
   ]
  },
  {
   "cell_type": "code",
   "execution_count": 178,
   "id": "8bcde898",
   "metadata": {},
   "outputs": [],
   "source": [
    "b.change_name(\"nouveau nom\")"
   ]
  },
  {
   "cell_type": "code",
   "execution_count": 179,
   "id": "f159bfe6",
   "metadata": {},
   "outputs": [
    {
     "data": {
      "text/plain": [
       "nouveau nom\n",
       "[Event(name='change_name', type_='Test', event_kwargs={'new_name': 'nouveau nom'}, version=1, originator_id=UUID('c4d9246b-8041-4926-8d77-dad3ce1e793e'))]"
      ]
     },
     "execution_count": 179,
     "metadata": {},
     "output_type": "execute_result"
    }
   ],
   "source": [
    "b"
   ]
  },
  {
   "cell_type": "code",
   "execution_count": null,
   "id": "e3f1a40f",
   "metadata": {},
   "outputs": [],
   "source": []
  }
 ],
 "metadata": {
  "kernelspec": {
   "display_name": ".venv",
   "language": "python",
   "name": "python3"
  },
  "language_info": {
   "codemirror_mode": {
    "name": "ipython",
    "version": 3
   },
   "file_extension": ".py",
   "mimetype": "text/x-python",
   "name": "python",
   "nbconvert_exporter": "python",
   "pygments_lexer": "ipython3",
   "version": "3.13.0"
  }
 },
 "nbformat": 4,
 "nbformat_minor": 5
}
